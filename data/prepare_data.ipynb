{
 "cells": [
  {
   "cell_type": "code",
   "execution_count": 1,
   "metadata": {
    "ExecuteTime": {
     "end_time": "2017-11-14T15:43:33.719522Z",
     "start_time": "2017-11-14T15:43:32.514216Z"
    },
    "collapsed": true
   },
   "outputs": [],
   "source": [
    "import pandas as pd\n",
    "import numpy as np\n",
    "import json\n",
    "import collections\n",
    "from IPython.core.display import display\n",
    "import matplotlib.pyplot as plt\n",
    "import seaborn as sns\n",
    "from tqdm import tqdm_notebook as tqdm\n",
    "from tqdm import tnrange"
   ]
  },
  {
   "cell_type": "code",
   "execution_count": 3,
   "metadata": {
    "ExecuteTime": {
     "end_time": "2017-11-14T15:43:44.474276Z",
     "start_time": "2017-11-14T15:43:44.427712Z"
    }
   },
   "outputs": [
    {
     "data": {
      "text/html": [
       "<div>\n",
       "<style>\n",
       "    .dataframe thead tr:only-child th {\n",
       "        text-align: right;\n",
       "    }\n",
       "\n",
       "    .dataframe thead th {\n",
       "        text-align: left;\n",
       "    }\n",
       "\n",
       "    .dataframe tbody tr th {\n",
       "        vertical-align: top;\n",
       "    }\n",
       "</style>\n",
       "<table border=\"1\" class=\"dataframe\">\n",
       "  <thead>\n",
       "    <tr style=\"text-align: right;\">\n",
       "      <th></th>\n",
       "      <th>0</th>\n",
       "      <th>1</th>\n",
       "      <th>2</th>\n",
       "      <th>3</th>\n",
       "      <th>4</th>\n",
       "      <th>5</th>\n",
       "    </tr>\n",
       "  </thead>\n",
       "  <tbody>\n",
       "    <tr>\n",
       "      <th>0</th>\n",
       "      <td>1.240</td>\n",
       "      <td>0.875</td>\n",
       "      <td>-0.205</td>\n",
       "      <td>-0.078</td>\n",
       "      <td>0.067</td>\n",
       "      <td>0</td>\n",
       "    </tr>\n",
       "    <tr>\n",
       "      <th>1</th>\n",
       "      <td>0.268</td>\n",
       "      <td>1.352</td>\n",
       "      <td>1.035</td>\n",
       "      <td>-0.332</td>\n",
       "      <td>0.217</td>\n",
       "      <td>0</td>\n",
       "    </tr>\n",
       "    <tr>\n",
       "      <th>2</th>\n",
       "      <td>1.567</td>\n",
       "      <td>0.867</td>\n",
       "      <td>1.300</td>\n",
       "      <td>1.041</td>\n",
       "      <td>0.559</td>\n",
       "      <td>0</td>\n",
       "    </tr>\n",
       "    <tr>\n",
       "      <th>3</th>\n",
       "      <td>0.279</td>\n",
       "      <td>0.990</td>\n",
       "      <td>2.555</td>\n",
       "      <td>-0.738</td>\n",
       "      <td>0.000</td>\n",
       "      <td>0</td>\n",
       "    </tr>\n",
       "    <tr>\n",
       "      <th>4</th>\n",
       "      <td>0.307</td>\n",
       "      <td>1.272</td>\n",
       "      <td>2.656</td>\n",
       "      <td>-0.946</td>\n",
       "      <td>-0.467</td>\n",
       "      <td>0</td>\n",
       "    </tr>\n",
       "  </tbody>\n",
       "</table>\n",
       "</div>"
      ],
      "text/plain": [
       "       0      1      2      3      4  5\n",
       "0  1.240  0.875 -0.205 -0.078  0.067  0\n",
       "1  0.268  1.352  1.035 -0.332  0.217  0\n",
       "2  1.567  0.867  1.300  1.041  0.559  0\n",
       "3  0.279  0.990  2.555 -0.738  0.000  0\n",
       "4  0.307  1.272  2.656 -0.946 -0.467  0"
      ]
     },
     "execution_count": 3,
     "metadata": {},
     "output_type": "execute_result"
    }
   ],
   "source": [
    "data = pd.read_csv('./data/phoneme.dat', header=None)\n",
    "data.head()"
   ]
  },
  {
   "cell_type": "code",
   "execution_count": 4,
   "metadata": {
    "ExecuteTime": {
     "end_time": "2017-11-14T15:43:49.063115Z",
     "start_time": "2017-11-14T15:43:48.992944Z"
    }
   },
   "outputs": [
    {
     "data": {
      "text/html": [
       "<div>\n",
       "<style>\n",
       "    .dataframe thead tr:only-child th {\n",
       "        text-align: right;\n",
       "    }\n",
       "\n",
       "    .dataframe thead th {\n",
       "        text-align: left;\n",
       "    }\n",
       "\n",
       "    .dataframe tbody tr th {\n",
       "        vertical-align: top;\n",
       "    }\n",
       "</style>\n",
       "<table border=\"1\" class=\"dataframe\">\n",
       "  <thead>\n",
       "    <tr style=\"text-align: right;\">\n",
       "      <th></th>\n",
       "      <th>0</th>\n",
       "      <th>1</th>\n",
       "      <th>2</th>\n",
       "      <th>3</th>\n",
       "      <th>4</th>\n",
       "      <th>5</th>\n",
       "    </tr>\n",
       "  </thead>\n",
       "  <tbody>\n",
       "    <tr>\n",
       "      <th>count</th>\n",
       "      <td>5404.000000</td>\n",
       "      <td>5404.000000</td>\n",
       "      <td>5404.000000</td>\n",
       "      <td>5404.000000</td>\n",
       "      <td>5404.000000</td>\n",
       "      <td>5404.000000</td>\n",
       "    </tr>\n",
       "    <tr>\n",
       "      <th>mean</th>\n",
       "      <td>0.818957</td>\n",
       "      <td>1.258802</td>\n",
       "      <td>0.764732</td>\n",
       "      <td>0.398743</td>\n",
       "      <td>0.078619</td>\n",
       "      <td>0.293486</td>\n",
       "    </tr>\n",
       "    <tr>\n",
       "      <th>std</th>\n",
       "      <td>0.858733</td>\n",
       "      <td>0.851057</td>\n",
       "      <td>0.925436</td>\n",
       "      <td>0.796531</td>\n",
       "      <td>0.575624</td>\n",
       "      <td>0.455401</td>\n",
       "    </tr>\n",
       "    <tr>\n",
       "      <th>min</th>\n",
       "      <td>-1.700000</td>\n",
       "      <td>-1.327000</td>\n",
       "      <td>-1.823000</td>\n",
       "      <td>-1.581000</td>\n",
       "      <td>-1.284000</td>\n",
       "      <td>0.000000</td>\n",
       "    </tr>\n",
       "    <tr>\n",
       "      <th>25%</th>\n",
       "      <td>0.243750</td>\n",
       "      <td>0.596000</td>\n",
       "      <td>-0.115000</td>\n",
       "      <td>-0.205000</td>\n",
       "      <td>-0.232250</td>\n",
       "      <td>0.000000</td>\n",
       "    </tr>\n",
       "    <tr>\n",
       "      <th>50%</th>\n",
       "      <td>0.492500</td>\n",
       "      <td>1.075500</td>\n",
       "      <td>0.729000</td>\n",
       "      <td>0.285500</td>\n",
       "      <td>-0.044000</td>\n",
       "      <td>0.000000</td>\n",
       "    </tr>\n",
       "    <tr>\n",
       "      <th>75%</th>\n",
       "      <td>1.089250</td>\n",
       "      <td>1.866250</td>\n",
       "      <td>1.484000</td>\n",
       "      <td>0.937000</td>\n",
       "      <td>0.196250</td>\n",
       "      <td>1.000000</td>\n",
       "    </tr>\n",
       "    <tr>\n",
       "      <th>max</th>\n",
       "      <td>4.107000</td>\n",
       "      <td>4.378000</td>\n",
       "      <td>3.199000</td>\n",
       "      <td>2.826000</td>\n",
       "      <td>2.719000</td>\n",
       "      <td>1.000000</td>\n",
       "    </tr>\n",
       "  </tbody>\n",
       "</table>\n",
       "</div>"
      ],
      "text/plain": [
       "                 0            1            2            3            4  \\\n",
       "count  5404.000000  5404.000000  5404.000000  5404.000000  5404.000000   \n",
       "mean      0.818957     1.258802     0.764732     0.398743     0.078619   \n",
       "std       0.858733     0.851057     0.925436     0.796531     0.575624   \n",
       "min      -1.700000    -1.327000    -1.823000    -1.581000    -1.284000   \n",
       "25%       0.243750     0.596000    -0.115000    -0.205000    -0.232250   \n",
       "50%       0.492500     1.075500     0.729000     0.285500    -0.044000   \n",
       "75%       1.089250     1.866250     1.484000     0.937000     0.196250   \n",
       "max       4.107000     4.378000     3.199000     2.826000     2.719000   \n",
       "\n",
       "                 5  \n",
       "count  5404.000000  \n",
       "mean      0.293486  \n",
       "std       0.455401  \n",
       "min       0.000000  \n",
       "25%       0.000000  \n",
       "50%       0.000000  \n",
       "75%       1.000000  \n",
       "max       1.000000  "
      ]
     },
     "execution_count": 4,
     "metadata": {},
     "output_type": "execute_result"
    }
   ],
   "source": [
    "data.describe()"
   ]
  },
  {
   "cell_type": "markdown",
   "metadata": {},
   "source": [
    "## data-description"
   ]
  },
  {
   "cell_type": "code",
   "execution_count": 5,
   "metadata": {
    "ExecuteTime": {
     "end_time": "2017-11-14T15:43:56.976479Z",
     "start_time": "2017-11-14T15:43:56.961954Z"
    }
   },
   "outputs": [
    {
     "data": {
      "text/plain": [
       "0    False\n",
       "1    False\n",
       "2    False\n",
       "3    False\n",
       "4    False\n",
       "5    False\n",
       "dtype: bool"
      ]
     },
     "execution_count": 5,
     "metadata": {},
     "output_type": "execute_result"
    }
   ],
   "source": [
    "data.isnull().any()"
   ]
  },
  {
   "cell_type": "code",
   "execution_count": 6,
   "metadata": {
    "ExecuteTime": {
     "end_time": "2017-11-14T15:44:01.180357Z",
     "start_time": "2017-11-14T15:44:01.174090Z"
    },
    "collapsed": true
   },
   "outputs": [],
   "source": [
    "d_c = data.copy()"
   ]
  },
  {
   "cell_type": "code",
   "execution_count": 10,
   "metadata": {
    "ExecuteTime": {
     "end_time": "2017-11-14T15:44:37.784339Z",
     "start_time": "2017-11-14T15:44:37.776157Z"
    },
    "collapsed": true,
    "scrolled": true
   },
   "outputs": [],
   "source": [
    "X = d_c.loc[:, :4]\n",
    "y = d_c.loc[:, 5]"
   ]
  },
  {
   "cell_type": "code",
   "execution_count": 11,
   "metadata": {
    "ExecuteTime": {
     "end_time": "2017-11-14T15:44:39.487225Z",
     "start_time": "2017-11-14T15:44:39.416435Z"
    },
    "scrolled": true
   },
   "outputs": [
    {
     "data": {
      "text/html": [
       "<div>\n",
       "<style>\n",
       "    .dataframe thead tr:only-child th {\n",
       "        text-align: right;\n",
       "    }\n",
       "\n",
       "    .dataframe thead th {\n",
       "        text-align: left;\n",
       "    }\n",
       "\n",
       "    .dataframe tbody tr th {\n",
       "        vertical-align: top;\n",
       "    }\n",
       "</style>\n",
       "<table border=\"1\" class=\"dataframe\">\n",
       "  <thead>\n",
       "    <tr style=\"text-align: right;\">\n",
       "      <th></th>\n",
       "      <th>0</th>\n",
       "      <th>1</th>\n",
       "      <th>2</th>\n",
       "      <th>3</th>\n",
       "      <th>4</th>\n",
       "    </tr>\n",
       "  </thead>\n",
       "  <tbody>\n",
       "    <tr>\n",
       "      <th>0</th>\n",
       "      <td>1.240</td>\n",
       "      <td>0.875</td>\n",
       "      <td>-0.205</td>\n",
       "      <td>-0.078</td>\n",
       "      <td>0.067</td>\n",
       "    </tr>\n",
       "    <tr>\n",
       "      <th>1</th>\n",
       "      <td>0.268</td>\n",
       "      <td>1.352</td>\n",
       "      <td>1.035</td>\n",
       "      <td>-0.332</td>\n",
       "      <td>0.217</td>\n",
       "    </tr>\n",
       "    <tr>\n",
       "      <th>2</th>\n",
       "      <td>1.567</td>\n",
       "      <td>0.867</td>\n",
       "      <td>1.300</td>\n",
       "      <td>1.041</td>\n",
       "      <td>0.559</td>\n",
       "    </tr>\n",
       "    <tr>\n",
       "      <th>3</th>\n",
       "      <td>0.279</td>\n",
       "      <td>0.990</td>\n",
       "      <td>2.555</td>\n",
       "      <td>-0.738</td>\n",
       "      <td>0.000</td>\n",
       "    </tr>\n",
       "    <tr>\n",
       "      <th>4</th>\n",
       "      <td>0.307</td>\n",
       "      <td>1.272</td>\n",
       "      <td>2.656</td>\n",
       "      <td>-0.946</td>\n",
       "      <td>-0.467</td>\n",
       "    </tr>\n",
       "    <tr>\n",
       "      <th>5</th>\n",
       "      <td>0.960</td>\n",
       "      <td>0.712</td>\n",
       "      <td>-0.143</td>\n",
       "      <td>0.091</td>\n",
       "      <td>-0.061</td>\n",
       "    </tr>\n",
       "    <tr>\n",
       "      <th>6</th>\n",
       "      <td>2.941</td>\n",
       "      <td>0.657</td>\n",
       "      <td>1.493</td>\n",
       "      <td>-0.331</td>\n",
       "      <td>-0.123</td>\n",
       "    </tr>\n",
       "    <tr>\n",
       "      <th>7</th>\n",
       "      <td>0.401</td>\n",
       "      <td>1.159</td>\n",
       "      <td>2.064</td>\n",
       "      <td>-0.690</td>\n",
       "      <td>-0.308</td>\n",
       "    </tr>\n",
       "    <tr>\n",
       "      <th>8</th>\n",
       "      <td>0.229</td>\n",
       "      <td>1.748</td>\n",
       "      <td>0.634</td>\n",
       "      <td>0.259</td>\n",
       "      <td>0.000</td>\n",
       "    </tr>\n",
       "    <tr>\n",
       "      <th>9</th>\n",
       "      <td>0.303</td>\n",
       "      <td>0.609</td>\n",
       "      <td>0.474</td>\n",
       "      <td>1.427</td>\n",
       "      <td>-0.811</td>\n",
       "    </tr>\n",
       "    <tr>\n",
       "      <th>10</th>\n",
       "      <td>0.318</td>\n",
       "      <td>0.811</td>\n",
       "      <td>0.818</td>\n",
       "      <td>0.821</td>\n",
       "      <td>0.860</td>\n",
       "    </tr>\n",
       "    <tr>\n",
       "      <th>11</th>\n",
       "      <td>0.655</td>\n",
       "      <td>1.054</td>\n",
       "      <td>1.372</td>\n",
       "      <td>-0.724</td>\n",
       "      <td>1.770</td>\n",
       "    </tr>\n",
       "    <tr>\n",
       "      <th>12</th>\n",
       "      <td>0.105</td>\n",
       "      <td>0.576</td>\n",
       "      <td>0.342</td>\n",
       "      <td>0.830</td>\n",
       "      <td>0.000</td>\n",
       "    </tr>\n",
       "    <tr>\n",
       "      <th>13</th>\n",
       "      <td>0.541</td>\n",
       "      <td>2.145</td>\n",
       "      <td>-0.562</td>\n",
       "      <td>-0.228</td>\n",
       "      <td>-0.141</td>\n",
       "    </tr>\n",
       "    <tr>\n",
       "      <th>14</th>\n",
       "      <td>1.404</td>\n",
       "      <td>1.531</td>\n",
       "      <td>0.476</td>\n",
       "      <td>1.601</td>\n",
       "      <td>-0.424</td>\n",
       "    </tr>\n",
       "    <tr>\n",
       "      <th>15</th>\n",
       "      <td>0.532</td>\n",
       "      <td>1.963</td>\n",
       "      <td>-0.355</td>\n",
       "      <td>0.191</td>\n",
       "      <td>-0.122</td>\n",
       "    </tr>\n",
       "    <tr>\n",
       "      <th>16</th>\n",
       "      <td>0.108</td>\n",
       "      <td>0.464</td>\n",
       "      <td>1.302</td>\n",
       "      <td>1.080</td>\n",
       "      <td>-0.349</td>\n",
       "    </tr>\n",
       "    <tr>\n",
       "      <th>17</th>\n",
       "      <td>0.807</td>\n",
       "      <td>2.227</td>\n",
       "      <td>-0.556</td>\n",
       "      <td>-0.225</td>\n",
       "      <td>0.161</td>\n",
       "    </tr>\n",
       "    <tr>\n",
       "      <th>18</th>\n",
       "      <td>1.039</td>\n",
       "      <td>2.271</td>\n",
       "      <td>1.699</td>\n",
       "      <td>-0.369</td>\n",
       "      <td>-0.168</td>\n",
       "    </tr>\n",
       "    <tr>\n",
       "      <th>19</th>\n",
       "      <td>0.316</td>\n",
       "      <td>1.360</td>\n",
       "      <td>1.986</td>\n",
       "      <td>-0.624</td>\n",
       "      <td>0.497</td>\n",
       "    </tr>\n",
       "    <tr>\n",
       "      <th>20</th>\n",
       "      <td>0.136</td>\n",
       "      <td>0.736</td>\n",
       "      <td>1.847</td>\n",
       "      <td>1.073</td>\n",
       "      <td>-0.424</td>\n",
       "    </tr>\n",
       "    <tr>\n",
       "      <th>21</th>\n",
       "      <td>0.533</td>\n",
       "      <td>2.581</td>\n",
       "      <td>-0.595</td>\n",
       "      <td>-0.227</td>\n",
       "      <td>-0.123</td>\n",
       "    </tr>\n",
       "    <tr>\n",
       "      <th>22</th>\n",
       "      <td>0.151</td>\n",
       "      <td>0.642</td>\n",
       "      <td>1.454</td>\n",
       "      <td>1.281</td>\n",
       "      <td>-0.716</td>\n",
       "    </tr>\n",
       "    <tr>\n",
       "      <th>23</th>\n",
       "      <td>0.533</td>\n",
       "      <td>2.139</td>\n",
       "      <td>0.629</td>\n",
       "      <td>0.241</td>\n",
       "      <td>-0.100</td>\n",
       "    </tr>\n",
       "    <tr>\n",
       "      <th>24</th>\n",
       "      <td>0.600</td>\n",
       "      <td>1.405</td>\n",
       "      <td>2.477</td>\n",
       "      <td>-0.701</td>\n",
       "      <td>-0.272</td>\n",
       "    </tr>\n",
       "    <tr>\n",
       "      <th>25</th>\n",
       "      <td>0.699</td>\n",
       "      <td>2.295</td>\n",
       "      <td>0.670</td>\n",
       "      <td>0.403</td>\n",
       "      <td>-0.391</td>\n",
       "    </tr>\n",
       "    <tr>\n",
       "      <th>26</th>\n",
       "      <td>0.619</td>\n",
       "      <td>2.238</td>\n",
       "      <td>-0.417</td>\n",
       "      <td>-0.184</td>\n",
       "      <td>-0.125</td>\n",
       "    </tr>\n",
       "    <tr>\n",
       "      <th>27</th>\n",
       "      <td>0.111</td>\n",
       "      <td>0.299</td>\n",
       "      <td>0.404</td>\n",
       "      <td>0.694</td>\n",
       "      <td>0.000</td>\n",
       "    </tr>\n",
       "    <tr>\n",
       "      <th>28</th>\n",
       "      <td>0.648</td>\n",
       "      <td>2.479</td>\n",
       "      <td>1.064</td>\n",
       "      <td>-0.317</td>\n",
       "      <td>0.000</td>\n",
       "    </tr>\n",
       "    <tr>\n",
       "      <th>29</th>\n",
       "      <td>1.669</td>\n",
       "      <td>2.226</td>\n",
       "      <td>0.545</td>\n",
       "      <td>0.229</td>\n",
       "      <td>-0.139</td>\n",
       "    </tr>\n",
       "    <tr>\n",
       "      <th>...</th>\n",
       "      <td>...</td>\n",
       "      <td>...</td>\n",
       "      <td>...</td>\n",
       "      <td>...</td>\n",
       "      <td>...</td>\n",
       "    </tr>\n",
       "    <tr>\n",
       "      <th>5374</th>\n",
       "      <td>1.386</td>\n",
       "      <td>1.298</td>\n",
       "      <td>-0.230</td>\n",
       "      <td>0.109</td>\n",
       "      <td>0.095</td>\n",
       "    </tr>\n",
       "    <tr>\n",
       "      <th>5375</th>\n",
       "      <td>2.181</td>\n",
       "      <td>1.505</td>\n",
       "      <td>0.892</td>\n",
       "      <td>0.698</td>\n",
       "      <td>-0.204</td>\n",
       "    </tr>\n",
       "    <tr>\n",
       "      <th>5376</th>\n",
       "      <td>0.516</td>\n",
       "      <td>1.509</td>\n",
       "      <td>2.200</td>\n",
       "      <td>0.783</td>\n",
       "      <td>-0.478</td>\n",
       "    </tr>\n",
       "    <tr>\n",
       "      <th>5377</th>\n",
       "      <td>0.368</td>\n",
       "      <td>1.500</td>\n",
       "      <td>1.976</td>\n",
       "      <td>-0.459</td>\n",
       "      <td>-0.282</td>\n",
       "    </tr>\n",
       "    <tr>\n",
       "      <th>5378</th>\n",
       "      <td>0.447</td>\n",
       "      <td>1.028</td>\n",
       "      <td>1.955</td>\n",
       "      <td>-0.764</td>\n",
       "      <td>-0.406</td>\n",
       "    </tr>\n",
       "    <tr>\n",
       "      <th>5379</th>\n",
       "      <td>2.756</td>\n",
       "      <td>0.266</td>\n",
       "      <td>0.158</td>\n",
       "      <td>0.194</td>\n",
       "      <td>-0.063</td>\n",
       "    </tr>\n",
       "    <tr>\n",
       "      <th>5380</th>\n",
       "      <td>1.298</td>\n",
       "      <td>2.284</td>\n",
       "      <td>-0.325</td>\n",
       "      <td>-0.147</td>\n",
       "      <td>0.190</td>\n",
       "    </tr>\n",
       "    <tr>\n",
       "      <th>5381</th>\n",
       "      <td>0.102</td>\n",
       "      <td>0.596</td>\n",
       "      <td>0.601</td>\n",
       "      <td>0.842</td>\n",
       "      <td>0.800</td>\n",
       "    </tr>\n",
       "    <tr>\n",
       "      <th>5382</th>\n",
       "      <td>1.920</td>\n",
       "      <td>1.270</td>\n",
       "      <td>-0.247</td>\n",
       "      <td>0.113</td>\n",
       "      <td>-0.065</td>\n",
       "    </tr>\n",
       "    <tr>\n",
       "      <th>5383</th>\n",
       "      <td>0.565</td>\n",
       "      <td>1.975</td>\n",
       "      <td>-0.544</td>\n",
       "      <td>-0.264</td>\n",
       "      <td>-0.239</td>\n",
       "    </tr>\n",
       "    <tr>\n",
       "      <th>5384</th>\n",
       "      <td>1.517</td>\n",
       "      <td>1.186</td>\n",
       "      <td>0.444</td>\n",
       "      <td>0.248</td>\n",
       "      <td>-0.180</td>\n",
       "    </tr>\n",
       "    <tr>\n",
       "      <th>5385</th>\n",
       "      <td>0.333</td>\n",
       "      <td>1.453</td>\n",
       "      <td>2.313</td>\n",
       "      <td>-0.639</td>\n",
       "      <td>0.000</td>\n",
       "    </tr>\n",
       "    <tr>\n",
       "      <th>5386</th>\n",
       "      <td>3.232</td>\n",
       "      <td>0.906</td>\n",
       "      <td>0.491</td>\n",
       "      <td>0.380</td>\n",
       "      <td>-0.121</td>\n",
       "    </tr>\n",
       "    <tr>\n",
       "      <th>5387</th>\n",
       "      <td>0.156</td>\n",
       "      <td>0.416</td>\n",
       "      <td>0.696</td>\n",
       "      <td>2.056</td>\n",
       "      <td>-0.688</td>\n",
       "    </tr>\n",
       "    <tr>\n",
       "      <th>5388</th>\n",
       "      <td>0.633</td>\n",
       "      <td>0.802</td>\n",
       "      <td>2.230</td>\n",
       "      <td>-0.659</td>\n",
       "      <td>0.000</td>\n",
       "    </tr>\n",
       "    <tr>\n",
       "      <th>5389</th>\n",
       "      <td>-0.106</td>\n",
       "      <td>-0.363</td>\n",
       "      <td>-0.401</td>\n",
       "      <td>1.300</td>\n",
       "      <td>0.000</td>\n",
       "    </tr>\n",
       "    <tr>\n",
       "      <th>5390</th>\n",
       "      <td>0.293</td>\n",
       "      <td>1.106</td>\n",
       "      <td>0.792</td>\n",
       "      <td>2.263</td>\n",
       "      <td>-0.624</td>\n",
       "    </tr>\n",
       "    <tr>\n",
       "      <th>5391</th>\n",
       "      <td>0.211</td>\n",
       "      <td>0.538</td>\n",
       "      <td>0.841</td>\n",
       "      <td>2.189</td>\n",
       "      <td>0.000</td>\n",
       "    </tr>\n",
       "    <tr>\n",
       "      <th>5392</th>\n",
       "      <td>1.288</td>\n",
       "      <td>0.722</td>\n",
       "      <td>0.123</td>\n",
       "      <td>0.095</td>\n",
       "      <td>0.106</td>\n",
       "    </tr>\n",
       "    <tr>\n",
       "      <th>5393</th>\n",
       "      <td>2.723</td>\n",
       "      <td>0.583</td>\n",
       "      <td>0.284</td>\n",
       "      <td>-0.071</td>\n",
       "      <td>0.089</td>\n",
       "    </tr>\n",
       "    <tr>\n",
       "      <th>5394</th>\n",
       "      <td>1.156</td>\n",
       "      <td>1.860</td>\n",
       "      <td>-0.268</td>\n",
       "      <td>-0.115</td>\n",
       "      <td>-0.084</td>\n",
       "    </tr>\n",
       "    <tr>\n",
       "      <th>5395</th>\n",
       "      <td>0.653</td>\n",
       "      <td>1.061</td>\n",
       "      <td>2.321</td>\n",
       "      <td>1.546</td>\n",
       "      <td>-0.401</td>\n",
       "    </tr>\n",
       "    <tr>\n",
       "      <th>5396</th>\n",
       "      <td>0.342</td>\n",
       "      <td>2.176</td>\n",
       "      <td>-0.339</td>\n",
       "      <td>0.294</td>\n",
       "      <td>-0.122</td>\n",
       "    </tr>\n",
       "    <tr>\n",
       "      <th>5397</th>\n",
       "      <td>1.508</td>\n",
       "      <td>1.605</td>\n",
       "      <td>0.657</td>\n",
       "      <td>0.801</td>\n",
       "      <td>0.942</td>\n",
       "    </tr>\n",
       "    <tr>\n",
       "      <th>5398</th>\n",
       "      <td>0.883</td>\n",
       "      <td>1.942</td>\n",
       "      <td>-0.443</td>\n",
       "      <td>1.609</td>\n",
       "      <td>-0.483</td>\n",
       "    </tr>\n",
       "    <tr>\n",
       "      <th>5399</th>\n",
       "      <td>0.254</td>\n",
       "      <td>2.392</td>\n",
       "      <td>0.689</td>\n",
       "      <td>1.828</td>\n",
       "      <td>-0.544</td>\n",
       "    </tr>\n",
       "    <tr>\n",
       "      <th>5400</th>\n",
       "      <td>0.781</td>\n",
       "      <td>1.250</td>\n",
       "      <td>0.793</td>\n",
       "      <td>0.383</td>\n",
       "      <td>0.816</td>\n",
       "    </tr>\n",
       "    <tr>\n",
       "      <th>5401</th>\n",
       "      <td>1.031</td>\n",
       "      <td>0.584</td>\n",
       "      <td>1.866</td>\n",
       "      <td>1.532</td>\n",
       "      <td>-0.671</td>\n",
       "    </tr>\n",
       "    <tr>\n",
       "      <th>5402</th>\n",
       "      <td>0.150</td>\n",
       "      <td>0.933</td>\n",
       "      <td>2.363</td>\n",
       "      <td>-0.742</td>\n",
       "      <td>-0.617</td>\n",
       "    </tr>\n",
       "    <tr>\n",
       "      <th>5403</th>\n",
       "      <td>0.137</td>\n",
       "      <td>0.714</td>\n",
       "      <td>1.350</td>\n",
       "      <td>0.972</td>\n",
       "      <td>-0.630</td>\n",
       "    </tr>\n",
       "  </tbody>\n",
       "</table>\n",
       "<p>5404 rows × 5 columns</p>\n",
       "</div>"
      ],
      "text/plain": [
       "          0      1      2      3      4\n",
       "0     1.240  0.875 -0.205 -0.078  0.067\n",
       "1     0.268  1.352  1.035 -0.332  0.217\n",
       "2     1.567  0.867  1.300  1.041  0.559\n",
       "3     0.279  0.990  2.555 -0.738  0.000\n",
       "4     0.307  1.272  2.656 -0.946 -0.467\n",
       "5     0.960  0.712 -0.143  0.091 -0.061\n",
       "6     2.941  0.657  1.493 -0.331 -0.123\n",
       "7     0.401  1.159  2.064 -0.690 -0.308\n",
       "8     0.229  1.748  0.634  0.259  0.000\n",
       "9     0.303  0.609  0.474  1.427 -0.811\n",
       "10    0.318  0.811  0.818  0.821  0.860\n",
       "11    0.655  1.054  1.372 -0.724  1.770\n",
       "12    0.105  0.576  0.342  0.830  0.000\n",
       "13    0.541  2.145 -0.562 -0.228 -0.141\n",
       "14    1.404  1.531  0.476  1.601 -0.424\n",
       "15    0.532  1.963 -0.355  0.191 -0.122\n",
       "16    0.108  0.464  1.302  1.080 -0.349\n",
       "17    0.807  2.227 -0.556 -0.225  0.161\n",
       "18    1.039  2.271  1.699 -0.369 -0.168\n",
       "19    0.316  1.360  1.986 -0.624  0.497\n",
       "20    0.136  0.736  1.847  1.073 -0.424\n",
       "21    0.533  2.581 -0.595 -0.227 -0.123\n",
       "22    0.151  0.642  1.454  1.281 -0.716\n",
       "23    0.533  2.139  0.629  0.241 -0.100\n",
       "24    0.600  1.405  2.477 -0.701 -0.272\n",
       "25    0.699  2.295  0.670  0.403 -0.391\n",
       "26    0.619  2.238 -0.417 -0.184 -0.125\n",
       "27    0.111  0.299  0.404  0.694  0.000\n",
       "28    0.648  2.479  1.064 -0.317  0.000\n",
       "29    1.669  2.226  0.545  0.229 -0.139\n",
       "...     ...    ...    ...    ...    ...\n",
       "5374  1.386  1.298 -0.230  0.109  0.095\n",
       "5375  2.181  1.505  0.892  0.698 -0.204\n",
       "5376  0.516  1.509  2.200  0.783 -0.478\n",
       "5377  0.368  1.500  1.976 -0.459 -0.282\n",
       "5378  0.447  1.028  1.955 -0.764 -0.406\n",
       "5379  2.756  0.266  0.158  0.194 -0.063\n",
       "5380  1.298  2.284 -0.325 -0.147  0.190\n",
       "5381  0.102  0.596  0.601  0.842  0.800\n",
       "5382  1.920  1.270 -0.247  0.113 -0.065\n",
       "5383  0.565  1.975 -0.544 -0.264 -0.239\n",
       "5384  1.517  1.186  0.444  0.248 -0.180\n",
       "5385  0.333  1.453  2.313 -0.639  0.000\n",
       "5386  3.232  0.906  0.491  0.380 -0.121\n",
       "5387  0.156  0.416  0.696  2.056 -0.688\n",
       "5388  0.633  0.802  2.230 -0.659  0.000\n",
       "5389 -0.106 -0.363 -0.401  1.300  0.000\n",
       "5390  0.293  1.106  0.792  2.263 -0.624\n",
       "5391  0.211  0.538  0.841  2.189  0.000\n",
       "5392  1.288  0.722  0.123  0.095  0.106\n",
       "5393  2.723  0.583  0.284 -0.071  0.089\n",
       "5394  1.156  1.860 -0.268 -0.115 -0.084\n",
       "5395  0.653  1.061  2.321  1.546 -0.401\n",
       "5396  0.342  2.176 -0.339  0.294 -0.122\n",
       "5397  1.508  1.605  0.657  0.801  0.942\n",
       "5398  0.883  1.942 -0.443  1.609 -0.483\n",
       "5399  0.254  2.392  0.689  1.828 -0.544\n",
       "5400  0.781  1.250  0.793  0.383  0.816\n",
       "5401  1.031  0.584  1.866  1.532 -0.671\n",
       "5402  0.150  0.933  2.363 -0.742 -0.617\n",
       "5403  0.137  0.714  1.350  0.972 -0.630\n",
       "\n",
       "[5404 rows x 5 columns]"
      ]
     },
     "execution_count": 11,
     "metadata": {},
     "output_type": "execute_result"
    }
   ],
   "source": [
    "X"
   ]
  },
  {
   "cell_type": "code",
   "execution_count": 13,
   "metadata": {
    "ExecuteTime": {
     "end_time": "2017-11-14T15:45:55.510644Z",
     "start_time": "2017-11-14T15:45:55.496766Z"
    },
    "scrolled": true
   },
   "outputs": [
    {
     "data": {
      "text/plain": [
       "0    3818\n",
       "1    1586\n",
       "Name: 5, dtype: int64"
      ]
     },
     "execution_count": 13,
     "metadata": {},
     "output_type": "execute_result"
    }
   ],
   "source": [
    "pd.Series(y).value_counts()"
   ]
  },
  {
   "cell_type": "code",
   "execution_count": 14,
   "metadata": {
    "ExecuteTime": {
     "end_time": "2017-11-14T15:46:13.087615Z",
     "start_time": "2017-11-14T15:46:13.072721Z"
    }
   },
   "outputs": [
    {
     "data": {
      "text/plain": [
       "(1586, 3818, 0.2934863064396743)"
      ]
     },
     "execution_count": 14,
     "metadata": {},
     "output_type": "execute_result"
    }
   ],
   "source": [
    "y = np.where(y == 0, 1, -1)\n",
    "len(np.where(y==-1)[0]), len(np.where(y==1)[0]), len(np.where(y==-1)[0])/(len(np.where(y==-1)[0]) + len(np.where(y==1)[0]))"
   ]
  },
  {
   "cell_type": "code",
   "execution_count": 15,
   "metadata": {
    "ExecuteTime": {
     "end_time": "2017-11-14T15:49:17.737085Z",
     "start_time": "2017-11-14T15:49:17.728423Z"
    }
   },
   "outputs": [
    {
     "data": {
      "text/plain": [
       "array([ 1,  1,  1, ..., -1,  1, -1])"
      ]
     },
     "execution_count": 15,
     "metadata": {},
     "output_type": "execute_result"
    }
   ],
   "source": [
    "y"
   ]
  },
  {
   "cell_type": "code",
   "execution_count": 16,
   "metadata": {
    "ExecuteTime": {
     "end_time": "2017-11-14T15:49:19.444424Z",
     "start_time": "2017-11-14T15:49:19.370592Z"
    },
    "collapsed": true
   },
   "outputs": [],
   "source": [
    "from sklearn.model_selection import train_test_split\n",
    "from sklearn.preprocessing import StandardScaler"
   ]
  },
  {
   "cell_type": "code",
   "execution_count": 17,
   "metadata": {
    "ExecuteTime": {
     "end_time": "2017-11-14T15:49:25.878645Z",
     "start_time": "2017-11-14T15:49:23.122717Z"
    },
    "scrolled": true
   },
   "outputs": [
    {
     "name": "stdout",
     "output_type": "stream",
     "text": [
      "data: 0\n"
     ]
    },
    {
     "name": "stderr",
     "output_type": "stream",
     "text": [
      "/home/lapis_zero09/.pyenv/versions/anaconda3-4.4.0/lib/python3.6/site-packages/ipykernel_launcher.py:11: FutureWarning: reshape is deprecated and will raise in a subsequent release. Please use .values.reshape(...) instead\n",
      "  # This is added back by InteractiveShellApp.init_path()\n",
      "/home/lapis_zero09/.pyenv/versions/anaconda3-4.4.0/lib/python3.6/site-packages/ipykernel_launcher.py:12: FutureWarning: reshape is deprecated and will raise in a subsequent release. Please use .values.reshape(...) instead\n",
      "  if sys.path[0] == '':\n",
      "/home/lapis_zero09/.pyenv/versions/anaconda3-4.4.0/lib/python3.6/site-packages/ipykernel_launcher.py:12: SettingWithCopyWarning: \n",
      "A value is trying to be set on a copy of a slice from a DataFrame.\n",
      "Try using .loc[row_indexer,col_indexer] = value instead\n",
      "\n",
      "See the caveats in the documentation: http://pandas.pydata.org/pandas-docs/stable/indexing.html#indexing-view-versus-copy\n",
      "  if sys.path[0] == '':\n",
      "/home/lapis_zero09/.pyenv/versions/anaconda3-4.4.0/lib/python3.6/site-packages/ipykernel_launcher.py:13: FutureWarning: reshape is deprecated and will raise in a subsequent release. Please use .values.reshape(...) instead\n",
      "  del sys.path[0]\n",
      "/home/lapis_zero09/.pyenv/versions/anaconda3-4.4.0/lib/python3.6/site-packages/ipykernel_launcher.py:13: SettingWithCopyWarning: \n",
      "A value is trying to be set on a copy of a slice from a DataFrame.\n",
      "Try using .loc[row_indexer,col_indexer] = value instead\n",
      "\n",
      "See the caveats in the documentation: http://pandas.pydata.org/pandas-docs/stable/indexing.html#indexing-view-versus-copy\n",
      "  del sys.path[0]\n"
     ]
    },
    {
     "name": "stdout",
     "output_type": "stream",
     "text": [
      "fold: 0\n",
      "fold: 1\n",
      "fold: 2\n",
      "fold: 3\n",
      "fold: 4\n",
      "data: 1\n",
      "fold: 0\n",
      "fold: 1\n",
      "fold: 2\n",
      "fold: 3\n",
      "fold: 4\n",
      "data: 2\n",
      "fold: 0\n",
      "fold: 1\n",
      "fold: 2\n",
      "fold: 3\n",
      "fold: 4\n",
      "data: 3\n",
      "fold: 0\n",
      "fold: 1\n",
      "fold: 2\n",
      "fold: 3\n",
      "fold: 4\n",
      "data: 4\n",
      "fold: 0\n",
      "fold: 1\n",
      "fold: 2\n",
      "fold: 3\n",
      "fold: 4\n"
     ]
    }
   ],
   "source": [
    "for j in range(5):\n",
    "    print('data:', j)\n",
    "    X_train, X_test, y_train, y_test = train_test_split(X, y, stratify=y , test_size=0.33, random_state=j)\n",
    "    \n",
    "    X_train_scaled = X_train\n",
    "    X_test_scaled = X_test\n",
    "    \n",
    "    for c_ in X_train.columns:\n",
    "    #     scaler = MinMaxScaler()\n",
    "        scaler = StandardScaler()\n",
    "        scaler.fit(X_train[c_].reshape(-1, 1))\n",
    "        X_train_scaled[c_] = scaler.transform(X_train[c_].reshape(-1, 1))\n",
    "        X_test_scaled[c_] = scaler.transform(X_test[c_].reshape(-1, 1))\n",
    "\n",
    "    np.savez_compressed('data_{}/X_train.npz'.format(j), d=X_train_scaled)\n",
    "    np.savez_compressed('data_{}/y_train.npz'.format(j), d=y_train)\n",
    "    np.savez_compressed('data_{}/X_test.npz'.format(j), d=X_test_scaled)\n",
    "    np.savez_compressed('data_{}/y_test.npz'.format(j), d=y_test)\n",
    "\n",
    "    for i in range(5):\n",
    "        print('fold:', i)\n",
    "        X_train_, X_test_, y_train_, y_test_ = train_test_split(X_train, y_train, stratify=y_train, test_size=0.33, random_state=i)\n",
    "        np.savez_compressed('data_{}/fold_{}/X_train.npz'.format(j, i), d=X_train_)\n",
    "        np.savez_compressed('data_{}/fold_{}/y_train.npz'.format(j, i), d=y_train_)\n",
    "        np.savez_compressed('data_{}/fold_{}/X_test.npz'.format(j, i), d=X_test_)\n",
    "        np.savez_compressed('data_{}/fold_{}/y_test.npz'.format(j, i), d=y_test_)"
   ]
  },
  {
   "cell_type": "code",
   "execution_count": 18,
   "metadata": {
    "ExecuteTime": {
     "end_time": "2017-11-14T15:49:27.750411Z",
     "start_time": "2017-11-14T15:49:27.740431Z"
    }
   },
   "outputs": [
    {
     "data": {
      "text/plain": [
       "((3620, 5), (2425, 5))"
      ]
     },
     "execution_count": 18,
     "metadata": {},
     "output_type": "execute_result"
    }
   ],
   "source": [
    "X_train.shape, X_train_.shape"
   ]
  },
  {
   "cell_type": "code",
   "execution_count": 19,
   "metadata": {
    "ExecuteTime": {
     "end_time": "2017-11-14T15:49:28.303790Z",
     "start_time": "2017-11-14T15:49:28.263420Z"
    }
   },
   "outputs": [
    {
     "name": "stderr",
     "output_type": "stream",
     "text": [
      "/home/lapis_zero09/.pyenv/versions/anaconda3-4.4.0/lib/python3.6/site-packages/sklearn/cross_validation.py:41: DeprecationWarning: This module was deprecated in version 0.18 in favor of the model_selection module into which all the refactored classes and functions are moved. Also note that the interface of the new CV iterators are different from that of this module. This module will be removed in 0.20.\n",
      "  \"This module will be removed in 0.20.\", DeprecationWarning)\n"
     ]
    }
   ],
   "source": [
    "from xgboost.sklearn import XGBClassifier"
   ]
  },
  {
   "cell_type": "code",
   "execution_count": 20,
   "metadata": {
    "ExecuteTime": {
     "end_time": "2017-11-14T15:49:34.932089Z",
     "start_time": "2017-11-14T15:49:34.909753Z"
    },
    "collapsed": true
   },
   "outputs": [],
   "source": [
    "data = 0\n",
    "X_train = np.load('data_{}/X_train.npz'.format(data))['d']\n",
    "y_train = np.load('data_{}/y_train.npz'.format(data))['d']\n",
    "X_submission = np.load('data_{}/X_test.npz'.format(data))['d']\n",
    "y_submission = np.load('data_{}/y_test.npz'.format(data))['d']"
   ]
  },
  {
   "cell_type": "code",
   "execution_count": 21,
   "metadata": {
    "ExecuteTime": {
     "end_time": "2017-11-14T15:49:35.446895Z",
     "start_time": "2017-11-14T15:49:35.434710Z"
    }
   },
   "outputs": [
    {
     "data": {
      "text/plain": [
       "array([ 524, 1260])"
      ]
     },
     "execution_count": 21,
     "metadata": {},
     "output_type": "execute_result"
    }
   ],
   "source": [
    "y_true = np.where(y_submission == -1, 0, 1)\n",
    "np.bincount(y_true)"
   ]
  },
  {
   "cell_type": "code",
   "execution_count": 22,
   "metadata": {
    "ExecuteTime": {
     "end_time": "2017-11-14T15:49:36.324926Z",
     "start_time": "2017-11-14T15:49:36.048174Z"
    },
    "collapsed": true
   },
   "outputs": [],
   "source": [
    "clf = XGBClassifier()\n",
    "clf.fit(X_train, y_train)\n",
    "pred = clf.predict(X_submission)"
   ]
  },
  {
   "cell_type": "code",
   "execution_count": 23,
   "metadata": {
    "ExecuteTime": {
     "end_time": "2017-11-14T15:49:37.028267Z",
     "start_time": "2017-11-14T15:49:37.022680Z"
    },
    "collapsed": true
   },
   "outputs": [],
   "source": [
    "from sklearn.metrics import mean_squared_error"
   ]
  },
  {
   "cell_type": "code",
   "execution_count": 24,
   "metadata": {
    "ExecuteTime": {
     "end_time": "2017-11-14T15:49:37.502556Z",
     "start_time": "2017-11-14T15:49:37.486876Z"
    }
   },
   "outputs": [
    {
     "data": {
      "text/plain": [
       "(1    1300\n",
       " 0     484\n",
       " dtype: int64, 0.12780269058295965)"
      ]
     },
     "execution_count": 24,
     "metadata": {},
     "output_type": "execute_result"
    }
   ],
   "source": [
    "p = np.where(pred == -1, 0, 1)\n",
    "pd.Series(p).value_counts(), mean_squared_error(y_true, p)"
   ]
  },
  {
   "cell_type": "code",
   "execution_count": 25,
   "metadata": {
    "ExecuteTime": {
     "end_time": "2017-11-14T15:50:05.351277Z",
     "start_time": "2017-11-14T15:49:39.426469Z"
    }
   },
   "outputs": [
    {
     "name": "stderr",
     "output_type": "stream",
     "text": [
      "Using TensorFlow backend.\n"
     ]
    }
   ],
   "source": [
    "\n",
    "from keras.utils import np_utils\n",
    "from keras.models import Sequential\n",
    "from keras.layers.core import Dense\n",
    "# from keras.layers.core import Dropout, Activation\n",
    "import keras.backend as K\n",
    "from keras.callbacks import EarlyStopping\n",
    "# from keras.wrappers.scikit_learn import KerasClassifier\n",
    "from sklearn.externals.joblib import Parallel, delayed\n",
    "import tensorflow as tf\n",
    "from keras.backend import tensorflow_backend"
   ]
  },
  {
   "cell_type": "code",
   "execution_count": 26,
   "metadata": {
    "ExecuteTime": {
     "end_time": "2017-11-14T15:50:05.357949Z",
     "start_time": "2017-11-14T15:50:05.353812Z"
    },
    "collapsed": true
   },
   "outputs": [],
   "source": [
    "es = EarlyStopping(monitor='val_binary_crossentropy',\n",
    "                   min_delta=0, patience=2,\n",
    "            verbose=0, mode='auto')"
   ]
  },
  {
   "cell_type": "code",
   "execution_count": 27,
   "metadata": {
    "ExecuteTime": {
     "end_time": "2017-11-14T15:50:05.437501Z",
     "start_time": "2017-11-14T15:50:05.360157Z"
    },
    "collapsed": true
   },
   "outputs": [],
   "source": [
    "def create_model(input_dim, activation=\"relu\", nb_hiddens=[]):\n",
    "    hidden_size = len(nb_hiddens)\n",
    "    model = Sequential()\n",
    "    model.add(Dense(nb_hiddens[0], input_dim=input_dim, activation='relu'))\n",
    "    for i in range(hidden_size - 1):\n",
    "        model.add(Dense(nb_hiddens[i + 1], input_dim=nb_hiddens[i],\n",
    "                        activation=activation))\n",
    "\n",
    "    model.add(Dense(1, activation='sigmoid'))\n",
    "    model.compile(loss='binary_crossentropy',\n",
    "                  optimizer='adam',\n",
    "                  metrics=['accuracy', 'binary_crossentropy'])\n",
    "\n",
    "    # print(model.summary())\n",
    "    return model"
   ]
  },
  {
   "cell_type": "code",
   "execution_count": 28,
   "metadata": {
    "ExecuteTime": {
     "end_time": "2017-11-14T15:50:05.525386Z",
     "start_time": "2017-11-14T15:50:05.439508Z"
    },
    "collapsed": true
   },
   "outputs": [],
   "source": [
    "config = tf.ConfigProto(gpu_options=tf.GPUOptions(allow_growth=True))\n",
    "session = tf.Session(config=config)\n",
    "tensorflow_backend.set_session(session)"
   ]
  },
  {
   "cell_type": "code",
   "execution_count": 29,
   "metadata": {
    "ExecuteTime": {
     "end_time": "2017-11-14T15:50:09.197734Z",
     "start_time": "2017-11-14T15:50:05.528816Z"
    }
   },
   "outputs": [
    {
     "name": "stdout",
     "output_type": "stream",
     "text": [
      "1728/1784 [============================>.] - ETA: 0s"
     ]
    }
   ],
   "source": [
    "model = create_model(input_dim=X_train.shape[1], nb_hiddens=[128, 128, 128])\n",
    "model.fit(X_train, y_train, epochs=200,\n",
    "          batch_size=128, validation_split=0.1,\n",
    "          callbacks=[es], verbose=0)\n",
    "res = model.predict_classes(X_submission).flatten()"
   ]
  },
  {
   "cell_type": "code",
   "execution_count": 30,
   "metadata": {
    "ExecuteTime": {
     "end_time": "2017-11-14T15:50:09.213458Z",
     "start_time": "2017-11-14T15:50:09.200302Z"
    }
   },
   "outputs": [
    {
     "data": {
      "text/plain": [
       "(1    1014\n",
       " 0     770\n",
       " dtype: int64, 0.18497757847533633)"
      ]
     },
     "execution_count": 30,
     "metadata": {},
     "output_type": "execute_result"
    }
   ],
   "source": [
    "pd.Series(res).value_counts(), mean_squared_error(y_true, res)"
   ]
  },
  {
   "cell_type": "code",
   "execution_count": null,
   "metadata": {
    "collapsed": true
   },
   "outputs": [],
   "source": []
  }
 ],
 "metadata": {
  "hide_input": false,
  "kernelspec": {
   "display_name": "Python 3",
   "language": "python",
   "name": "python3"
  },
  "language_info": {
   "codemirror_mode": {
    "name": "ipython",
    "version": 3
   },
   "file_extension": ".py",
   "mimetype": "text/x-python",
   "name": "python",
   "nbconvert_exporter": "python",
   "pygments_lexer": "ipython3",
   "version": "3.6.1"
  },
  "latex_envs": {
   "LaTeX_envs_menu_present": true,
   "autocomplete": true,
   "bibliofile": "biblio.bib",
   "cite_by": "apalike",
   "current_citInitial": 1,
   "eqLabelWithNumbers": true,
   "eqNumInitial": 1,
   "hotkeys": {
    "equation": "Ctrl-E",
    "itemize": "Ctrl-I"
   },
   "labels_anchors": false,
   "latex_user_defs": false,
   "report_style_numbering": false,
   "user_envs_cfg": false
  },
  "toc": {
   "colors": {
    "hover_highlight": "#DAA520",
    "navigate_num": "#000000",
    "navigate_text": "#333333",
    "running_highlight": "#FF0000",
    "selected_highlight": "#FFD700",
    "sidebar_border": "#EEEEEE",
    "wrapper_background": "#FFFFFF"
   },
   "moveMenuLeft": true,
   "nav_menu": {
    "height": "30px",
    "width": "252px"
   },
   "navigate_menu": true,
   "number_sections": true,
   "sideBar": true,
   "threshold": 4,
   "toc_cell": false,
   "toc_section_display": "block",
   "toc_window_display": false,
   "widenNotebook": false
  }
 },
 "nbformat": 4,
 "nbformat_minor": 2
}
