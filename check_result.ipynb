{
 "cells": [
  {
   "cell_type": "code",
   "execution_count": 1,
   "metadata": {
    "ExecuteTime": {
     "end_time": "2018-03-20T07:56:19.957778Z",
     "start_time": "2018-03-20T07:56:18.706856Z"
    }
   },
   "outputs": [],
   "source": [
    "from result import CheckResult"
   ]
  },
  {
   "cell_type": "code",
   "execution_count": 2,
   "metadata": {
    "ExecuteTime": {
     "end_time": "2018-03-20T07:56:22.945575Z",
     "start_time": "2018-03-20T07:56:19.961169Z"
    },
    "scrolled": true
   },
   "outputs": [
    {
     "name": "stdout",
     "output_type": "stream",
     "text": [
      "rse\n",
      "rse\n",
      "rse\n",
      "rse\n",
      "rse\n",
      "mse: [0.079596412556053805, 0.08688340807174888, 0.091367713004484305, 0.084080717488789244, 0.08800448430493274]\n",
      "f1: [0.94378463974663507, 0.93904836806920955, 0.93694390715667319, 0.94103773584905659, 0.93826189539913474]\n"
     ]
    },
    {
     "data": {
      "text/plain": [
       "(0.0859865470852018, 0.93981530924414192)"
      ]
     },
     "execution_count": 2,
     "metadata": {},
     "output_type": "execute_result"
    }
   ],
   "source": [
    "cr = CheckResult()\n",
    "cr.ensemble()"
   ]
  },
  {
   "cell_type": "code",
   "execution_count": 3,
   "metadata": {
    "ExecuteTime": {
     "end_time": "2018-03-20T07:56:29.970178Z",
     "start_time": "2018-03-20T07:56:22.947766Z"
    }
   },
   "outputs": [
    {
     "data": {
      "text/plain": [
       "(0.092937219730941698, 0.93484136670163342)"
      ]
     },
     "execution_count": 3,
     "metadata": {},
     "output_type": "execute_result"
    }
   ],
   "source": [
    "cr.best_single_model()"
   ]
  }
 ],
 "metadata": {
  "hide_input": false,
  "kernelspec": {
   "display_name": "Python 3",
   "language": "python",
   "name": "python3"
  },
  "language_info": {
   "codemirror_mode": {
    "name": "ipython",
    "version": 3
   },
   "file_extension": ".py",
   "mimetype": "text/x-python",
   "name": "python",
   "nbconvert_exporter": "python",
   "pygments_lexer": "ipython3",
   "version": "3.6.3"
  },
  "latex_envs": {
   "LaTeX_envs_menu_present": true,
   "autoclose": false,
   "autocomplete": true,
   "bibliofile": "biblio.bib",
   "cite_by": "apalike",
   "current_citInitial": 1,
   "eqLabelWithNumbers": true,
   "eqNumInitial": 1,
   "hotkeys": {
    "equation": "Ctrl-E",
    "itemize": "Ctrl-I"
   },
   "labels_anchors": false,
   "latex_user_defs": false,
   "report_style_numbering": false,
   "user_envs_cfg": false
  },
  "toc": {
   "nav_menu": {},
   "number_sections": true,
   "sideBar": true,
   "skip_h1_title": false,
   "title_cell": "Table of Contents",
   "title_sidebar": "Contents",
   "toc_cell": false,
   "toc_position": {},
   "toc_section_display": "block",
   "toc_window_display": false
  }
 },
 "nbformat": 4,
 "nbformat_minor": 2
}
